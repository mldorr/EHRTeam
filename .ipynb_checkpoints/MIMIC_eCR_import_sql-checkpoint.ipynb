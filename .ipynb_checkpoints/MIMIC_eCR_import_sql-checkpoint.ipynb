{
 "cells": [
  {
   "cell_type": "code",
   "execution_count": 3,
   "metadata": {},
   "outputs": [
    {
     "ename": "NameError",
     "evalue": "name 'psycopg2' is not defined",
     "output_type": "error",
     "traceback": [
      "\u001b[1;31m---------------------------------------------------------------------------\u001b[0m",
      "\u001b[1;31mNameError\u001b[0m                                 Traceback (most recent call last)",
      "\u001b[1;32m<ipython-input-3-1a15cb026049>\u001b[0m in \u001b[0;36m<module>\u001b[1;34m\u001b[0m\n\u001b[0;32m     18\u001b[0m \u001b[1;33m\u001b[0m\u001b[0m\n\u001b[0;32m     19\u001b[0m \u001b[1;31m# Connect to postgres with a copy of the MIMIC-III database\u001b[0m\u001b[1;33m\u001b[0m\u001b[1;33m\u001b[0m\u001b[0m\n\u001b[1;32m---> 20\u001b[1;33m \u001b[0mcon\u001b[0m \u001b[1;33m=\u001b[0m \u001b[0mpsycopg2\u001b[0m\u001b[1;33m.\u001b[0m\u001b[0mconnect\u001b[0m\u001b[1;33m(\u001b[0m\u001b[0mdbname\u001b[0m\u001b[1;33m=\u001b[0m\u001b[0mdbname\u001b[0m\u001b[1;33m,\u001b[0m \u001b[0muser\u001b[0m\u001b[1;33m=\u001b[0m\u001b[0msqluser\u001b[0m\u001b[1;33m,\u001b[0m \u001b[0mpassword\u001b[0m\u001b[1;33m=\u001b[0m\u001b[0mpw\u001b[0m\u001b[1;33m)\u001b[0m\u001b[1;33m\u001b[0m\u001b[0m\n\u001b[0m\u001b[0;32m     21\u001b[0m \u001b[1;33m\u001b[0m\u001b[0m\n\u001b[0;32m     22\u001b[0m \u001b[1;31m# the below statement is prepended to queries to ensure they select from the right schema\u001b[0m\u001b[1;33m\u001b[0m\u001b[1;33m\u001b[0m\u001b[0m\n",
      "\u001b[1;31mNameError\u001b[0m: name 'psycopg2' is not defined"
     ]
    }
   ],
   "source": [
    "# Import libraries\n",
    "import numpy as np\n",
    "import pandas as pd\n",
    "import matplotlib.pyplot as plt\n",
    "# import psycopg2\n",
    "\n",
    "# below imports are used to print out pretty pandas dataframes\n",
    "from IPython.display import display, HTML\n",
    "\n",
    "%matplotlib inline\n",
    "plt.style.use('ggplot')\n",
    "\n",
    "# information used to create a database connection\n",
    "sqluser = 'postgres'\n",
    "dbname = 'mimic'\n",
    "schema_name = 'mimiciii'\n",
    "pw = 'postgres'\n",
    "\n",
    "# Connect to postgres with a copy of the MIMIC-III database\n",
    "con = psycopg2.connect(dbname=dbname, user=sqluser, password=pw)\n",
    "\n",
    "# the below statement is prepended to queries to ensure they select from the right schema\n",
    "query_schema = 'set search_path to ' + schema_name + ';'"
   ]
  },
  {
   "cell_type": "code",
   "execution_count": null,
   "metadata": {
    "collapsed": true
   },
   "outputs": [],
   "source": [
    "#get data from table: prescriptions\n",
    "query = query_schema +\"\"\"\n",
    "SELECT row_id, subject_id, hadm_id, icustay_id, startdate\n",
    "    , enddate, drug_type, drug, drug_name_poe\n",
    "    , drug_name_generic, formulary_drug_cd\n",
    "FROM prescriptions\n",
    "\"\"\"\n",
    "prescriptions = pd.read_sql_query(query, con)"
   ]
  },
  {
   "cell_type": "code",
   "execution_count": null,
   "metadata": {
    "collapsed": true
   },
   "outputs": [],
   "source": [
    "#get data from table: diagnoses_icd\n",
    "query = query_schema +\"\"\"\n",
    "SELECT subject_id, hadm_id, icd9_code\n",
    "FROM diagnoses_icd\n",
    "\"\"\"\n",
    "diagnoses_icd = pd.read_sql_query(query, con)"
   ]
  },
  {
   "cell_type": "code",
   "execution_count": null,
   "metadata": {
    "collapsed": true
   },
   "outputs": [],
   "source": [
    "#get data from table: d_diagnoses_icd\n",
    "query = query_schema +\"\"\"\n",
    "SELECT short_title, icd9_code, long_title\n",
    "FROM d_icd_diagnoses\n",
    "\"\"\"\n",
    "d_diagnoses_icd = pd.read_sql_query(query, con)"
   ]
  },
  {
   "cell_type": "code",
   "execution_count": null,
   "metadata": {
    "collapsed": true
   },
   "outputs": [],
   "source": [
    "#get data from tables: admissions and patients (+ calculate age)\n",
    "query = query_schema +\"\"\"\n",
    "(\n",
    "SELECT adm.subject_id, adm.hadm_id, adm.admission_type\n",
    "    , adm.diagnosis, adm.admittime, adm.dischtime, adm.deathtime\n",
    "    , adm.insurance, adm.language, adm.religion\n",
    "    , adm.marital_status, adm.ethnicity, pat.gender, pat.expire_flag\n",
    "    , EXTRACT('epoch' from adm.admittime - pat.dob)  / 60.0 / 60.0 / 24.0 / 365.242 AS age\n",
    "    , EXTRACT('epoch' from pat.dod - pat.dob)  / 60.0 / 60.0 / 24.0 / 365.242 AS age_death\n",
    "FROM admissions adm\n",
    "INNER JOIN patients pat\n",
    "    ON adm.subject_id = pat.subject_ID\n",
    ")\n",
    "\"\"\"\n",
    "admissions = pd.read_sql_query(query, con)"
   ]
  },
  {
   "cell_type": "code",
   "execution_count": null,
   "metadata": {
    "collapsed": true
   },
   "outputs": [],
   "source": [
    "#get data from table: drgcodes\n",
    "query = query_schema +\"\"\"\n",
    "SELECT subject_id, hadm_id, drg_type, drg_code\n",
    "    , description, drg_severity, drg_mortality\n",
    "FROM drgcodes\n",
    "\"\"\"\n",
    "drgcodes = pd.read_sql_query(query, con)"
   ]
  },
  {
   "cell_type": "code",
   "execution_count": null,
   "metadata": {
    "collapsed": true
   },
   "outputs": [],
   "source": [
    "#get icd-9 codes from table: procedures_icd\n",
    "query = query_schema +\"\"\"\n",
    "SELECT subject_id, hadm_id, icd9_code\n",
    "FROM procedures_icd\n",
    "\"\"\"\n",
    "procedures_icd = pd.read_sql_query(query, con)"
   ]
  },
  {
   "cell_type": "code",
   "execution_count": null,
   "metadata": {
    "collapsed": true
   },
   "outputs": [],
   "source": [
    "#get data from table: d_icd_procedures\n",
    "query = query_schema +\"\"\"\n",
    "SELECT icd9_code, short_title, long_title\n",
    "FROM d_icd_diagnoses\n",
    "\"\"\"\n",
    "d_procedures_icd = pd.read_sql_query(query, con)"
   ]
  },
  {
   "cell_type": "code",
   "execution_count": null,
   "metadata": {
    "collapsed": true
   },
   "outputs": [],
   "source": [
    "# Import salmonella trigger codes and select only ICD-9 codes\n",
    "salmonellaTC = pd.read_csv(\"C:/Users/Maggie/OneDrive/UW-BHI/Research Ish/PHIN VADS/salmonellaRCTC.csv\")\n",
    "\n",
    "salmonellaICD = salmonellaTC[salmonellaTC.CodeSystem=='ICD9CM']"
   ]
  },
  {
   "cell_type": "markdown",
   "metadata": {},
   "source": [
    "#### Reprocessing dates from random future dates to MIMIC dataframe date range"
   ]
  },
  {
   "cell_type": "code",
   "execution_count": 1,
   "metadata": {},
   "outputs": [
    {
     "ename": "NameError",
     "evalue": "name 'admissions' is not defined",
     "output_type": "error",
     "traceback": [
      "\u001b[1;31m---------------------------------------------------------------------------\u001b[0m",
      "\u001b[1;31mNameError\u001b[0m                                 Traceback (most recent call last)",
      "\u001b[1;32m<ipython-input-1-431c91f44475>\u001b[0m in \u001b[0;36m<module>\u001b[1;34m\u001b[0m\n\u001b[1;32m----> 1\u001b[1;33m \u001b[0madmissions\u001b[0m\u001b[1;33m.\u001b[0m\u001b[0minfo\u001b[0m\u001b[1;33m(\u001b[0m\u001b[1;33m)\u001b[0m\u001b[1;33m\u001b[0m\u001b[0m\n\u001b[0m",
      "\u001b[1;31mNameError\u001b[0m: name 'admissions' is not defined"
     ]
    }
   ],
   "source": [
    "admissions.info()"
   ]
  },
  {
   "cell_type": "code",
   "execution_count": null,
   "metadata": {
    "collapsed": true
   },
   "outputs": [],
   "source": [
    "#make a copy of admissions\n",
    "admissions2=admissions.copy()"
   ]
  },
  {
   "cell_type": "code",
   "execution_count": null,
   "metadata": {
    "collapsed": true
   },
   "outputs": [],
   "source": [
    "#group future dates into 2001-2012\n",
    "admissions2['admit_year'] = pd.Series(np.zeros(admissions2.shape[0]))\n",
    "admissions2.loc[admissions2['admittime'].dt.year>2201, 'admit_year'] = int(2012)\n",
    "admissions2.loc[(admissions2['admittime'].dt.year<=2201) & (admissions2['admittime'].dt.year>2192), 'admit_year'] = int(2011)\n",
    "admissions2.loc[(admissions2['admittime'].dt.year<=2192) & (admissions2['admittime'].dt.year>2183), 'admit_year'] = 2010\n",
    "admissions2.loc[(admissions2['admittime'].dt.year<=2183) & (admissions2['admittime'].dt.year>2174), 'admit_year'] = 2009\n",
    "admissions2.loc[(admissions2['admittime'].dt.year<=2174) & (admissions2['admittime'].dt.year>2165), 'admit_year'] = 2008\n",
    "admissions2.loc[(admissions2['admittime'].dt.year<=2165) & (admissions2['admittime'].dt.year>2156), 'admit_year'] = 2007\n",
    "admissions2.loc[(admissions2['admittime'].dt.year<=2156) & (admissions2['admittime'].dt.year>2147), 'admit_year'] = 2006\n",
    "admissions2.loc[(admissions2['admittime'].dt.year<=2147) & (admissions2['admittime'].dt.year>2138), 'admit_year'] = 2005\n",
    "admissions2.loc[(admissions2['admittime'].dt.year<=2138) & (admissions2['admittime'].dt.year>2129), 'admit_year'] = 2004\n",
    "admissions2.loc[(admissions2['admittime'].dt.year<=2129) & (admissions2['admittime'].dt.year>2120), 'admit_year'] = 2003\n",
    "admissions2.loc[(admissions2['admittime'].dt.year<=2120) & (admissions2['admittime'].dt.year>2111), 'admit_year'] = 2002\n",
    "admissions2.loc[admissions2['admittime'].dt.year<=2111, 'admit_year'] = 2001"
   ]
  },
  {
   "cell_type": "code",
   "execution_count": null,
   "metadata": {
    "collapsed": true
   },
   "outputs": [],
   "source": [
    "#convert new variable to an integer\n",
    "admissions2['admit_year'] = admissions2['admit_year'].astype('int')\n",
    "admissions2.head()"
   ]
  },
  {
   "cell_type": "code",
   "execution_count": null,
   "metadata": {
    "collapsed": true
   },
   "outputs": [],
   "source": [
    "#extract month and date\n",
    "admissions2['admit_month']=admissions2['admittime'].dt.month\n",
    "admissions2['admit_day']=admissions2['admittime'].dt.day\n",
    "\n",
    "#convert all leap year days to 2004 to avoid conflict\n",
    "admissions2.loc[(admissions2['admit_day']==29) & (admissions2['admit_month']==2), 'admit_year'] = 2004"
   ]
  },
  {
   "cell_type": "code",
   "execution_count": null,
   "metadata": {
    "collapsed": true
   },
   "outputs": [],
   "source": [
    "#convert to strings\n",
    "admissions2['admit_year'] = admissions2['admit_year'].astype('str')\n",
    "admissions2['admit_month'] = admissions2['admit_month'].astype('str')\n",
    "admissions2['admit_day'] = admissions2['admit_day'].astype('str')\n",
    "\n",
    "#merge new variables\n",
    "admissions2['admit_new']=admissions2[['admit_year', 'admit_month', 'admit_day']].apply(lambda x: '-'.join(x), axis=1)\n",
    "\n",
    "#convert string to date\n",
    "admissions2['admit_new'] = pd.to_datetime(admissions2['admit_new'])\n",
    "\n",
    "#print dataset head\n",
    "admissions2.head()"
   ]
  },
  {
   "cell_type": "code",
   "execution_count": null,
   "metadata": {
    "collapsed": true
   },
   "outputs": [],
   "source": [
    "#remove all new variables except converted date\n",
    "cols=[16,17,18]\n",
    "admissions2.drop(admissions2.columns[cols], axis=1,inplace=True)\n",
    "\n",
    "#print dataframe info\n",
    "admissions2.info()"
   ]
  },
  {
   "cell_type": "code",
   "execution_count": null,
   "metadata": {
    "collapsed": true
   },
   "outputs": [],
   "source": [
    "#repeating above process for discharge date\n",
    "admissions2['disch_year'] = pd.Series(np.zeros(admissions2.shape[0]))\n",
    "admissions2.loc[admissions2['dischtime'].dt.year>2201, 'disch_year'] = 2012\n",
    "admissions2.loc[(admissions2['dischtime'].dt.year<=2201) & (admissions2['dischtime'].dt.year>2192), 'disch_year'] = 2011\n",
    "admissions2.loc[(admissions2['dischtime'].dt.year<=2192) & (admissions2['dischtime'].dt.year>2183), 'disch_year'] = 2010\n",
    "admissions2.loc[(admissions2['dischtime'].dt.year<=2183) & (admissions2['dischtime'].dt.year>2174), 'disch_year'] = 2009\n",
    "admissions2.loc[(admissions2['dischtime'].dt.year<=2174) & (admissions2['dischtime'].dt.year>2165), 'disch_year'] = 2008\n",
    "admissions2.loc[(admissions2['dischtime'].dt.year<=2165) & (admissions2['dischtime'].dt.year>2156), 'disch_year'] = 2007\n",
    "admissions2.loc[(admissions2['dischtime'].dt.year<=2156) & (admissions2['dischtime'].dt.year>2147), 'disch_year'] = 2006\n",
    "admissions2.loc[(admissions2['dischtime'].dt.year<=2147) & (admissions2['dischtime'].dt.year>2138), 'disch_year'] = 2005\n",
    "admissions2.loc[(admissions2['dischtime'].dt.year<=2138) & (admissions2['dischtime'].dt.year>2129), 'disch_year'] = 2004\n",
    "admissions2.loc[(admissions2['dischtime'].dt.year<=2129) & (admissions2['dischtime'].dt.year>2120), 'disch_year'] = 2003\n",
    "admissions2.loc[(admissions2['dischtime'].dt.year<=2120) & (admissions2['dischtime'].dt.year>2111), 'disch_year'] = 2002\n",
    "admissions2.loc[admissions2['dischtime'].dt.year<=2111, 'disch_year'] = 2001"
   ]
  },
  {
   "cell_type": "code",
   "execution_count": null,
   "metadata": {
    "collapsed": true
   },
   "outputs": [],
   "source": [
    "admissions2['disch_year'] = admissions2['disch_year'].astype('int')\n",
    "admissions2.head()"
   ]
  },
  {
   "cell_type": "code",
   "execution_count": null,
   "metadata": {
    "collapsed": true
   },
   "outputs": [],
   "source": [
    "admissions2['disch_month']=admissions2['dischtime'].dt.month\n",
    "admissions2['disch_day']=admissions2['dischtime'].dt.day\n",
    "\n",
    "admissions2.loc[(admissions2['disch_day']==29) & (admissions2['disch_month']==2), 'disch_year'] = 2004"
   ]
  },
  {
   "cell_type": "code",
   "execution_count": null,
   "metadata": {
    "collapsed": true
   },
   "outputs": [],
   "source": [
    "admissions2['disch_year'] = admissions2['disch_year'].astype('str')\n",
    "admissions2['disch_month'] = admissions2['disch_month'].astype('str')\n",
    "admissions2['disch_day'] = admissions2['disch_day'].astype('str')\n",
    "\n",
    "admissions2['disch_new']=admissions2[['disch_year', 'disch_month', 'disch_day']].apply(lambda x: '-'.join(x), axis=1)\n",
    "\n",
    "admissions2['disch_new'] = pd.to_datetime(admissions2['disch_new'])\n",
    "\n",
    "admissions2.head()"
   ]
  },
  {
   "cell_type": "code",
   "execution_count": null,
   "metadata": {
    "collapsed": true,
    "scrolled": true
   },
   "outputs": [],
   "source": [
    "cols=[17,18,19]\n",
    "admissions2.drop(admissions2.columns[cols], axis=1,inplace=True)\n",
    "\n",
    "admissions2.info()"
   ]
  },
  {
   "cell_type": "markdown",
   "metadata": {},
   "source": [
    "### Merge imported datasets"
   ]
  },
  {
   "cell_type": "code",
   "execution_count": null,
   "metadata": {
    "collapsed": true
   },
   "outputs": [],
   "source": [
    "merge_diagnoses = pd.merge(diagnoses_icd, d_diagnoses_icd, how='inner'\n",
    "                           , left_on='icd9_code', right_on='icd9_code')"
   ]
  },
  {
   "cell_type": "code",
   "execution_count": null,
   "metadata": {
    "collapsed": true
   },
   "outputs": [],
   "source": [
    "merge_procedures = pd.merge(procedures_icd, d_procedures_icd, how='inner'\n",
    "                            , left_on='icd9_code', right_on='icd9_code')"
   ]
  },
  {
   "cell_type": "code",
   "execution_count": null,
   "metadata": {
    "collapsed": true
   },
   "outputs": [],
   "source": [
    "merge_diag_proc = [merge_diagnoses, merge_procedures]\n",
    "merge_diag_proc = pd.concat(merge_diag_proc)"
   ]
  },
  {
   "cell_type": "code",
   "execution_count": null,
   "metadata": {
    "collapsed": true
   },
   "outputs": [],
   "source": [
    "#Connect all ICD-9 codes to salmonella trigger codes\n",
    "merge_diag_proc_salm = pd.merge(merge_diag_proc, salmonellaICD\n",
    "                                , how='inner', left_on='icd9_code'\n",
    "                                , right_on='Code')\n",
    "#cut down columns\n",
    "merge_diag_proc_salm = merge_diag_proc_salm[['subject_id','hadm_id'\n",
    "                                             , 'Code', 'Descriptor']]\n",
    "#merge cases with all other diagnoses during that visit\n",
    "merge_diag_proc_salm = pd.merge(merge_diag_proc_salm, merge_diag_proc\n",
    "                               , how='left', left_on=['subject_id', 'hadm_id']\n",
    "                               , right_on=['subject_id', 'hadm_id'])\n",
    "#merge_diag_proc_salm #should be 1297 unique"
   ]
  },
  {
   "cell_type": "code",
   "execution_count": null,
   "metadata": {
    "collapsed": true
   },
   "outputs": [],
   "source": [
    "#merge with admissions\n",
    "merge_salm_admit = pd.merge(merge_diag_proc_salm, admissions2\n",
    "                               , how='left', left_on=['subject_id', 'hadm_id']\n",
    "                               , right_on=['subject_id', 'hadm_id'])"
   ]
  },
  {
   "cell_type": "code",
   "execution_count": null,
   "metadata": {
    "collapsed": true
   },
   "outputs": [],
   "source": [
    "#merge with drgcodes\n",
    "merge_salm_admit_drg = pd.merge(merge_salm_admit, drgcodes\n",
    "                               , how='left', left_on=['subject_id', 'hadm_id']\n",
    "                               , right_on=['subject_id', 'hadm_id'])"
   ]
  },
  {
   "cell_type": "code",
   "execution_count": null,
   "metadata": {
    "collapsed": true
   },
   "outputs": [],
   "source": [
    "#merge with prescriptions\n",
    "merge_all_salmonella = pd.merge(merge_salm_admit_drg, prescriptions\n",
    "                               , how='left', left_on=['subject_id', 'hadm_id']\n",
    "                               , right_on=['subject_id', 'hadm_id'])"
   ]
  },
  {
   "cell_type": "code",
   "execution_count": null,
   "metadata": {
    "collapsed": true
   },
   "outputs": [],
   "source": [
    "# export file\n",
    "merge_all_salmonella.to_csv(\"C:/Users/Maggie/OneDrive/UW-BHI/2018Fall/CSE583/Project/mimic_salmonella.csv\")"
   ]
  }
 ],
 "metadata": {
  "kernelspec": {
   "display_name": "Python 3",
   "language": "python",
   "name": "python3"
  },
  "language_info": {
   "codemirror_mode": {
    "name": "ipython",
    "version": 3
   },
   "file_extension": ".py",
   "mimetype": "text/x-python",
   "name": "python",
   "nbconvert_exporter": "python",
   "pygments_lexer": "ipython3",
   "version": "3.7.0"
  }
 },
 "nbformat": 4,
 "nbformat_minor": 2
}
